{
 "cells": [
  {
   "cell_type": "code",
   "execution_count": 1,
   "id": "f41cdb46",
   "metadata": {
    "_cell_guid": "b1076dfc-b9ad-4769-8c92-a6c4dae69d19",
    "_uuid": "8f2839f25d086af736a60e9eeb907d3b93b6e0e5",
    "execution": {
     "iopub.execute_input": "2024-09-12T15:11:38.020778Z",
     "iopub.status.busy": "2024-09-12T15:11:38.020501Z",
     "iopub.status.idle": "2024-09-12T15:11:38.732199Z",
     "shell.execute_reply": "2024-09-12T15:11:38.731303Z"
    },
    "papermill": {
     "duration": 0.719041,
     "end_time": "2024-09-12T15:11:38.734547",
     "exception": false,
     "start_time": "2024-09-12T15:11:38.015506",
     "status": "completed"
    },
    "tags": []
   },
   "outputs": [
    {
     "name": "stdout",
     "output_type": "stream",
     "text": [
      "/kaggle/input/kiolpujy/class4.csv\n",
      "/kaggle/input/kiolpujy/class3.csv\n",
      "/kaggle/input/kiolpujy/class1.csv\n",
      "/kaggle/input/kiolpujy/class6.csv\n",
      "/kaggle/input/kiolpujy/class0.csv\n",
      "/kaggle/input/kiolpujy/class5.csv\n",
      "/kaggle/input/kiolpujy/class2.csv\n"
     ]
    }
   ],
   "source": [
    "# This Python 3 environment comes with many helpful analytics libraries installed\n",
    "# It is defined by the kaggle/python Docker image: https://github.com/kaggle/docker-python\n",
    "# For example, here's several helpful packages to load\n",
    "\n",
    "import numpy as np # linear algebra\n",
    "import pandas as pd # data processing, CSV file I/O (e.g. pd.read_csv)\n",
    "\n",
    "# Input data files are available in the read-only \"../input/\" directory\n",
    "# For example, running this (by clicking run or pressing Shift+Enter) will list all files under the input directory\n",
    "\n",
    "import os\n",
    "for dirname, _, filenames in os.walk('/kaggle/input'):\n",
    "    for filename in filenames:\n",
    "        print(os.path.join(dirname, filename))\n",
    "\n",
    "# You can write up to 20GB to the current directory (/kaggle/working/) that gets preserved as output when you create a version using \"Save & Run All\" \n",
    "# You can also write temporary files to /kaggle/temp/, but they won't be saved outside of the current session"
   ]
  },
  {
   "cell_type": "code",
   "execution_count": 2,
   "id": "848a3e7f",
   "metadata": {
    "execution": {
     "iopub.execute_input": "2024-09-12T15:11:38.743380Z",
     "iopub.status.busy": "2024-09-12T15:11:38.742929Z",
     "iopub.status.idle": "2024-09-12T15:11:52.933344Z",
     "shell.execute_reply": "2024-09-12T15:11:52.931801Z"
    },
    "papermill": {
     "duration": 14.197257,
     "end_time": "2024-09-12T15:11:52.935752",
     "exception": false,
     "start_time": "2024-09-12T15:11:38.738495",
     "status": "completed"
    },
    "tags": []
   },
   "outputs": [
    {
     "name": "stdout",
     "output_type": "stream",
     "text": [
      "Collecting wtfml\r\n",
      "  Downloading wtfml-0.0.3-py3-none-any.whl.metadata (808 bytes)\r\n",
      "Requirement already satisfied: scikit-learn>=0.22.1 in /opt/conda/lib/python3.10/site-packages (from wtfml) (1.2.2)\r\n",
      "Requirement already satisfied: numpy>=1.17.3 in /opt/conda/lib/python3.10/site-packages (from scikit-learn>=0.22.1->wtfml) (1.26.4)\r\n",
      "Requirement already satisfied: scipy>=1.3.2 in /opt/conda/lib/python3.10/site-packages (from scikit-learn>=0.22.1->wtfml) (1.14.0)\r\n",
      "Requirement already satisfied: joblib>=1.1.1 in /opt/conda/lib/python3.10/site-packages (from scikit-learn>=0.22.1->wtfml) (1.4.2)\r\n",
      "Requirement already satisfied: threadpoolctl>=2.0.0 in /opt/conda/lib/python3.10/site-packages (from scikit-learn>=0.22.1->wtfml) (3.5.0)\r\n",
      "Downloading wtfml-0.0.3-py3-none-any.whl (10 kB)\r\n",
      "Installing collected packages: wtfml\r\n",
      "Successfully installed wtfml-0.0.3\r\n",
      "Note: you may need to restart the kernel to use updated packages.\n"
     ]
    }
   ],
   "source": [
    "pip install wtfml\n"
   ]
  },
  {
   "cell_type": "code",
   "execution_count": 3,
   "id": "357d7418",
   "metadata": {
    "execution": {
     "iopub.execute_input": "2024-09-12T15:11:52.947179Z",
     "iopub.status.busy": "2024-09-12T15:11:52.946787Z",
     "iopub.status.idle": "2024-09-12T15:11:58.659396Z",
     "shell.execute_reply": "2024-09-12T15:11:58.658596Z"
    },
    "papermill": {
     "duration": 5.720929,
     "end_time": "2024-09-12T15:11:58.661617",
     "exception": false,
     "start_time": "2024-09-12T15:11:52.940688",
     "status": "completed"
    },
    "tags": []
   },
   "outputs": [],
   "source": [
    "import os\n",
    "import torch\n",
    "import albumentations\n",
    "\n",
    "import numpy as np\n",
    "import pandas as pd\n",
    "\n",
    "import torch.nn as nn\n",
    "from sklearn import metrics\n",
    "from sklearn import model_selection\n",
    "from torch.nn import functional as F\n",
    "\n",
    "from wtfml.utils import EarlyStopping\n",
    "from wtfml.engine import Engine"
   ]
  },
  {
   "cell_type": "code",
   "execution_count": 4,
   "id": "1316c2b6",
   "metadata": {
    "execution": {
     "iopub.execute_input": "2024-09-12T15:11:58.671459Z",
     "iopub.status.busy": "2024-09-12T15:11:58.671043Z",
     "iopub.status.idle": "2024-09-12T15:12:00.178540Z",
     "shell.execute_reply": "2024-09-12T15:12:00.177541Z"
    },
    "papermill": {
     "duration": 1.514863,
     "end_time": "2024-09-12T15:12:00.180807",
     "exception": false,
     "start_time": "2024-09-12T15:11:58.665944",
     "status": "completed"
    },
    "tags": []
   },
   "outputs": [],
   "source": [
    "import torch\n",
    "import torch.nn as nn\n",
    "import torchvision.models as models\n",
    "class ResNetForMultiClass(nn.Module):\n",
    "    def __init__(self, num_classes=2, pretrained='imagenet'):\n",
    "        super(ResNetForMultiClass, self).__init__()\n",
    "        \n",
    "        # Load the pre-trained ResNet model\n",
    "        self.base_model = models.resnet152(pretrained=(pretrained == 'imagenet'))\n",
    "        \n",
    "        # Replace the final fully connected layer of ResNet\n",
    "        self.base_model.fc = nn.Linear(in_features=self.base_model.fc.in_features, out_features=512)\n",
    "        \n",
    "        # Add the output layer for multi-class classification\n",
    "        self.out = nn.Linear(512, num_classes)\n",
    "        \n",
    "        # Dropout layer\n",
    "        self.dropout = nn.Dropout(p=0.5)\n",
    "        \n",
    "    def forward(self, image, targets=None):\n",
    "        # Pass the image through the base ResNet model\n",
    "        x = self.base_model(image)\n",
    "        \n",
    "        # Apply ReLU and Dropout\n",
    "        x = torch.relu(x)\n",
    "        if targets is not None:\n",
    "            x = self.dropout(x)\n",
    "        \n",
    "        # Output layer\n",
    "        out = self.out(x)\n",
    "        \n",
    "        # If targets are provided (training mode), compute the loss\n",
    "        if targets is not None:\n",
    "            loss = FocalLoss()(out, targets)\n",
    "            return out, loss\n",
    "        \n",
    "        # If no targets are provided (inference mode), return only the output\n",
    "        return out"
   ]
  },
  {
   "cell_type": "code",
   "execution_count": 5,
   "id": "80cda061",
   "metadata": {
    "execution": {
     "iopub.execute_input": "2024-09-12T15:12:00.190835Z",
     "iopub.status.busy": "2024-09-12T15:12:00.190413Z",
     "iopub.status.idle": "2024-09-12T15:12:00.214280Z",
     "shell.execute_reply": "2024-09-12T15:12:00.213461Z"
    },
    "papermill": {
     "duration": 0.030937,
     "end_time": "2024-09-12T15:12:00.216059",
     "exception": false,
     "start_time": "2024-09-12T15:12:00.185122",
     "status": "completed"
    },
    "tags": []
   },
   "outputs": [],
   "source": [
    "import torch\n",
    "from torch.utils.data import Dataset\n",
    "import numpy as np\n",
    "import cv2\n",
    "import albumentations as A\n",
    "\n",
    "class CustomImageDataset(Dataset):\n",
    "    def __init__(self, pixel_arrays, targets, resize=None, augmentations=None):\n",
    "        self.pixel_arrays = pixel_arrays\n",
    "        self.targets = targets\n",
    "        self.resize = resize\n",
    "        self.augmentations = augmentations\n",
    "\n",
    "    def __len__(self):\n",
    "        return len(self.pixel_arrays)\n",
    "\n",
    "    def __getitem__(self, idx):\n",
    "        # Convert the 1D array to a 2D grayscale image\n",
    "        image = np.array(self.pixel_arrays[idx], dtype=np.float32).reshape(48, 48)\n",
    "        \n",
    "        # Resize image if needed\n",
    "        if self.resize:\n",
    "            image = cv2.resize(image, self.resize)\n",
    "\n",
    "        # Expand dimensions to (48, 48, 1) and then convert to (new_size, new_size, 3) for RGB\n",
    "        image = np.expand_dims(image, axis=-1)\n",
    "        image = np.repeat(image, 3, axis=-1)  # Convert to RGB\n",
    "\n",
    "        # Apply augmentations if specified\n",
    "        if self.augmentations:\n",
    "            augmented = self.augmentations(image=image)\n",
    "            image = augmented['image']\n",
    "\n",
    "        # Convert image to PyTorch tensor and permute to (3, new_size, new_size) format\n",
    "        image = torch.tensor(image, dtype=torch.float32).permute(2, 0, 1)  # For RGB, shape becomes (3, new_size, new_size)\n",
    "        target = torch.tensor(self.targets[idx], dtype=torch.long)\n",
    "\n",
    "        return image, target\n",
    "import torch\n",
    "import numpy as np\n",
    "from sklearn import metrics\n",
    "from tqdm import tqdm\n",
    "\n",
    "class Engine:\n",
    "    @staticmethod\n",
    "    def train(data_loader, model, optimizer, device, scheduler=None, accumulation_steps=1, fp16=False):\n",
    "        model.train()\n",
    "        losses = AverageMeter()\n",
    "        scaler = torch.cuda.amp.GradScaler() if fp16 else None\n",
    "        \n",
    "        if accumulation_steps > 1:\n",
    "            optimizer.zero_grad()\n",
    "        \n",
    "        tk0 = tqdm(data_loader, total=len(data_loader))\n",
    "        for batch_idx, (images, targets) in enumerate(tk0):\n",
    "            images = images.to(device)\n",
    "            targets = targets.to(device)\n",
    "\n",
    "            optimizer.zero_grad()\n",
    "            with torch.set_grad_enabled(True):\n",
    "                if fp16:\n",
    "                    with torch.cuda.amp.autocast():\n",
    "                        outputs = model(images)\n",
    "                        loss = FocalLoss()(ouputs,targets)\n",
    "                    scaler.scale(loss).backward()\n",
    "                else:\n",
    "                    outputs = model(images)\n",
    "                    loss = FocalLoss()(outputs, targets)\n",
    "                    loss.backward()\n",
    "\n",
    "                if (batch_idx + 1) % accumulation_steps == 0:\n",
    "                    scaler.step(optimizer) if fp16 else optimizer.step()\n",
    "                    if scheduler:\n",
    "                        scheduler.step()\n",
    "                    optimizer.zero_grad()\n",
    "\n",
    "            losses.update(loss.item(), data_loader.batch_size)\n",
    "            tk0.set_postfix(loss=losses.avg)\n",
    "        \n",
    "        return losses.avg\n",
    "\n",
    "    @staticmethod\n",
    "    def evaluate(data_loader, model, device, use_tpu=False):\n",
    "        losses = AverageMeter()\n",
    "        final_predictions = []\n",
    "        model.eval()\n",
    "        with torch.no_grad():\n",
    "            tk0 = tqdm(data_loader, total=len(data_loader), disable=use_tpu)\n",
    "            for b_idx, data in enumerate(tk0):\n",
    "                images, targets = data  # Adjust if your data format is different\n",
    "\n",
    "                # Move tensors to device\n",
    "                images = images.to(device)\n",
    "                targets = targets.to(device)\n",
    "\n",
    "                # Forward pass\n",
    "                predictions, loss = model(images, targets)\n",
    "                predictions = predictions.cpu()\n",
    "                losses.update(loss.item(), images.size(0))\n",
    "                final_predictions.append(predictions)\n",
    "                tk0.set_postfix(loss=losses.avg)\n",
    "\n",
    "        # Concatenate all predictions and convert to NumPy array\n",
    "        final_predictions = torch.cat(final_predictions).numpy()\n",
    "        return final_predictions, losses.avg\n",
    "    def predict(data_loader, model, device, use_tpu=False):\n",
    "        model.eval()\n",
    "        final_predictions = []\n",
    "        with torch.no_grad():\n",
    "            tk0 = tqdm(data_loader, total=len(data_loader), disable=use_tpu)\n",
    "            for b_idx, data in enumerate(tk0):\n",
    "                inputs, _ = data  # Unpack data\n",
    "                inputs = inputs.to(device)\n",
    "                predictions = model(inputs) \n",
    "            # Assume model returns only predictions\n",
    "                final_predictions.append(predictions.cpu())\n",
    "                tk0.set_postfix()\n",
    "        return torch.cat(final_predictions).numpy()\n",
    "        # Concatenate all predictions and convert to numpy array\n",
    "        return torch.cat(final_predictions).numpy()\n",
    "class AverageMeter():\n",
    "        def __init__(self):\n",
    "            self.reset()\n",
    "\n",
    "        def reset(self):\n",
    "            self.val = 0\n",
    "            self.avg = 0\n",
    "            self.sum = 0\n",
    "            self.count = 0\n",
    "\n",
    "        def update(self, val, n=1):\n",
    "            self.val = val\n",
    "            self.sum += val * n\n",
    "            self.count += n\n",
    "            self.avg = self.sum / self.count"
   ]
  },
  {
   "cell_type": "code",
   "execution_count": 6,
   "id": "975c895b",
   "metadata": {
    "execution": {
     "iopub.execute_input": "2024-09-12T15:12:00.225054Z",
     "iopub.status.busy": "2024-09-12T15:12:00.224774Z",
     "iopub.status.idle": "2024-09-12T15:12:00.231944Z",
     "shell.execute_reply": "2024-09-12T15:12:00.231179Z"
    },
    "papermill": {
     "duration": 0.013859,
     "end_time": "2024-09-12T15:12:00.233912",
     "exception": false,
     "start_time": "2024-09-12T15:12:00.220053",
     "status": "completed"
    },
    "tags": []
   },
   "outputs": [],
   "source": [
    "import torch\n",
    "import torch.nn as nn\n",
    "import torch.nn.functional as F\n",
    "\n",
    "class FocalLoss(nn.Module):\n",
    "    def __init__(self, alpha=1, gamma=2):\n",
    "        super(FocalLoss, self).__init__()\n",
    "        self.alpha = alpha\n",
    "        self.gamma = gamma\n",
    "        self.epsilon = 1e-12  # prevent training from NaN-loss errors\n",
    "\n",
    "    def forward(self, logits, target):\n",
    "        \"\"\"\n",
    "        logits: [batch_size, num_classes]\n",
    "        target: [batch_size] (true class indices, not one-hot)\n",
    "        \"\"\"\n",
    "        # Compute softmax over logits to get the class probabilities\n",
    "        probs = F.softmax(logits, dim=1)\n",
    "        \n",
    "        # Gather the probabilities of the true class (index-based selection)\n",
    "        probs_target_class = probs.gather(1, target.unsqueeze(1)).squeeze(1) + self.epsilon\n",
    "        \n",
    "        # Compute the log of the selected probabilities\n",
    "        log_pt = torch.log(probs_target_class)\n",
    "        \n",
    "        # Calculate the focal loss (focuses more on hard examples)\n",
    "        focal_loss = -1 * self.alpha * (1 - probs_target_class) ** self.gamma * log_pt\n",
    "        \n",
    "        return torch.mean(focal_loss)"
   ]
  },
  {
   "cell_type": "code",
   "execution_count": 7,
   "id": "3c64d107",
   "metadata": {
    "execution": {
     "iopub.execute_input": "2024-09-12T15:12:00.243074Z",
     "iopub.status.busy": "2024-09-12T15:12:00.242799Z",
     "iopub.status.idle": "2024-09-12T15:12:00.260157Z",
     "shell.execute_reply": "2024-09-12T15:12:00.259322Z"
    },
    "papermill": {
     "duration": 0.024257,
     "end_time": "2024-09-12T15:12:00.262146",
     "exception": false,
     "start_time": "2024-09-12T15:12:00.237889",
     "status": "completed"
    },
    "tags": []
   },
   "outputs": [],
   "source": [
    "import albumentations as A\n",
    "from torch.utils.data import DataLoader\n",
    "from sklearn.model_selection import train_test_split\n",
    "def train(fold):\n",
    "    df = pd.read_csv(f\"/kaggle/input/kiolpujy/class{fold}.csv\")\n",
    "    df_train, df_valid = train_test_split(df, test_size=0.2, random_state=42, stratify=df[f'class_{fold}'])\n",
    "    df_train = df_train.reset_index(drop=True)\n",
    "    df_valid = df_valid.reset_index(drop=True)\n",
    "    device = \"cuda\"\n",
    "    epochs = 50\n",
    "    train_bs = 32\n",
    "    valid_bs = 16\n",
    "    train_pixels = df_train['pixels'].apply(lambda x: np.fromstring(x, sep=' ', dtype=np.float32))\n",
    "    train_targets = df_train[f'class_{fold}'].values\n",
    "\n",
    "    valid_pixels = df_valid['pixels'].apply(lambda x: np.fromstring(x, sep=' ', dtype=np.float32))\n",
    "    valid_targets = df_valid[f'class_{fold}'].values\n",
    "\n",
    "    mean = (0.485, 0.456, 0.406)\n",
    "    std = (0.229, 0.224, 0.225)\n",
    "    train_aug = A.Compose(\n",
    "    [\n",
    "        A.Resize(height=299, width=299),  # Resize images to 224x224\n",
    "        A.Normalize(mean=mean, std=std, max_pixel_value=255.0, always_apply=True),\n",
    "        A.ShiftScaleRotate(shift_limit=0.0625, scale_limit=0.1, rotate_limit=15),\n",
    "        A.HorizontalFlip(p=0.5)\n",
    "    ]\n",
    "    )\n",
    "\n",
    "    valid_aug = A.Compose(\n",
    "        [\n",
    "        A.Resize(height=299, width=299),  # Resize images to 224x224\n",
    "        A.Normalize(mean=mean, std=std, max_pixel_value=255.0, always_apply=True)\n",
    "        ]\n",
    "    )\n",
    "    train_dataset = CustomImageDataset(\n",
    "        pixel_arrays=train_pixels,\n",
    "        targets=train_targets,\n",
    "        resize=(299, 299),  # New size\n",
    "        augmentations=train_aug,\n",
    "    )\n",
    "\n",
    "    train_loader = DataLoader(\n",
    "        train_dataset, batch_size=32, shuffle=True, num_workers=4\n",
    "    )\n",
    "\n",
    "    valid_dataset = CustomImageDataset(\n",
    "        pixel_arrays=valid_pixels,\n",
    "        targets=valid_targets,\n",
    "        resize=(299, 299),  # New size\n",
    "        augmentations=valid_aug,\n",
    "    )\n",
    "\n",
    "    valid_loader = DataLoader(\n",
    "        valid_dataset, batch_size=32, shuffle=False, num_workers=4\n",
    "    )\n",
    "    model = ResNetForMultiClass(num_classes= 7,pretrained='imagenet')\n",
    "    model.to(device)\n",
    "    optimizer = torch.optim.Adam(model.parameters(), lr=1e-4)\n",
    "    scheduler = torch.optim.lr_scheduler.ReduceLROnPlateau(\n",
    "        optimizer,\n",
    "        patience=3,\n",
    "        threshold=0.001,\n",
    "        mode=\"max\"\n",
    "    )\n",
    "\n",
    "    es = EarlyStopping(patience=5, mode=\"max\")\n",
    "    for epoch in range(epochs):\n",
    "        train_loss = Engine.train(train_loader, model,optimizer,\n",
    "        device,\n",
    "        scheduler=None,\n",
    "        accumulation_steps=1,\n",
    "        fp16=False)\n",
    "        predictions, valid_loss = Engine.evaluate(\n",
    "            valid_loader, model, device=device\n",
    "        )\n",
    "        final_predictions = np.argmax(np.vstack(predictions), axis=1)\n",
    "        valid_targets = np.array(valid_targets)  # Ensure targets are in the right format\n",
    "    \n",
    "    # Calculate accuracy\n",
    "        accuracy = metrics.accuracy_score(valid_targets, final_predictions)\n",
    "        print(f\"Epoch = {epoch}, Accuracy = {accuracy:.4f}\")\n",
    "    \n",
    "    # Update the learning rate scheduler\n",
    "        scheduler.step(accuracy)\n",
    "    \n",
    "    # Early Stopping\n",
    "        es(accuracy, model, model_path=f\"model_fold_RES152{fold}.bin\")\n",
    "        if es.early_stop:\n",
    "            print(\"Early stopping\")\n",
    "            break\n",
    "    oof_data = {\n",
    "        'id': df_valid.index,  # Use the index to map back to the original data\n",
    "        'true_emotion': valid_targets,\n",
    "        'pred_emotion': final_predictions,\n",
    "        'fold': fold\n",
    "    }\n",
    "    \n",
    "    return pd.DataFrame(oof_data)"
   ]
  },
  {
   "cell_type": "code",
   "execution_count": 8,
   "id": "d54dd887",
   "metadata": {
    "execution": {
     "iopub.execute_input": "2024-09-12T15:12:00.271843Z",
     "iopub.status.busy": "2024-09-12T15:12:00.271574Z",
     "iopub.status.idle": "2024-09-12T19:06:10.107595Z",
     "shell.execute_reply": "2024-09-12T19:06:10.106594Z"
    },
    "papermill": {
     "duration": 14049.843017,
     "end_time": "2024-09-12T19:06:10.109489",
     "exception": false,
     "start_time": "2024-09-12T15:12:00.266472",
     "status": "completed"
    },
    "tags": []
   },
   "outputs": [
    {
     "name": "stderr",
     "output_type": "stream",
     "text": [
      "/opt/conda/lib/python3.10/site-packages/torchvision/models/_utils.py:208: UserWarning: The parameter 'pretrained' is deprecated since 0.13 and may be removed in the future, please use 'weights' instead.\n",
      "  warnings.warn(\n",
      "/opt/conda/lib/python3.10/site-packages/torchvision/models/_utils.py:223: UserWarning: Arguments other than a weight enum or `None` for 'weights' are deprecated since 0.13 and may be removed in the future. The current behavior is equivalent to passing `weights=ResNet152_Weights.IMAGENET1K_V1`. You can also use `weights=ResNet152_Weights.DEFAULT` to get the most up-to-date weights.\n",
      "  warnings.warn(msg)\n",
      "Downloading: \"https://download.pytorch.org/models/resnet152-394f9c45.pth\" to /root/.cache/torch/hub/checkpoints/resnet152-394f9c45.pth\n",
      "100%|██████████| 230M/230M [00:01<00:00, 157MB/s]\n",
      "100%|██████████| 125/125 [02:39<00:00,  1.28s/it, loss=0.143]\n",
      "100%|██████████| 32/32 [00:13<00:00,  2.45it/s, loss=0.112]\n"
     ]
    },
    {
     "name": "stdout",
     "output_type": "stream",
     "text": [
      "Epoch = 0, Accuracy = 0.8350\n",
      "Validation score improved (-inf --> 0.835). Saving model!\n"
     ]
    },
    {
     "name": "stderr",
     "output_type": "stream",
     "text": [
      "100%|██████████| 125/125 [02:44<00:00,  1.31s/it, loss=0.0924]\n",
      "100%|██████████| 32/32 [00:13<00:00,  2.44it/s, loss=0.0897]\n"
     ]
    },
    {
     "name": "stdout",
     "output_type": "stream",
     "text": [
      "Epoch = 1, Accuracy = 0.8610\n",
      "Validation score improved (0.835 --> 0.861). Saving model!\n"
     ]
    },
    {
     "name": "stderr",
     "output_type": "stream",
     "text": [
      "100%|██████████| 125/125 [02:44<00:00,  1.32s/it, loss=0.0873]\n",
      "100%|██████████| 32/32 [00:13<00:00,  2.44it/s, loss=0.0976]\n"
     ]
    },
    {
     "name": "stdout",
     "output_type": "stream",
     "text": [
      "Epoch = 2, Accuracy = 0.8490\n",
      "EarlyStopping counter: 1 out of 5\n"
     ]
    },
    {
     "name": "stderr",
     "output_type": "stream",
     "text": [
      "100%|██████████| 125/125 [02:44<00:00,  1.31s/it, loss=0.0774]\n",
      "100%|██████████| 32/32 [00:13<00:00,  2.43it/s, loss=0.0945]\n"
     ]
    },
    {
     "name": "stdout",
     "output_type": "stream",
     "text": [
      "Epoch = 3, Accuracy = 0.8410\n",
      "EarlyStopping counter: 2 out of 5\n"
     ]
    },
    {
     "name": "stderr",
     "output_type": "stream",
     "text": [
      "100%|██████████| 125/125 [02:44<00:00,  1.31s/it, loss=0.0721]\n",
      "100%|██████████| 32/32 [00:13<00:00,  2.43it/s, loss=0.0886]\n"
     ]
    },
    {
     "name": "stdout",
     "output_type": "stream",
     "text": [
      "Epoch = 4, Accuracy = 0.8790\n",
      "Validation score improved (0.861 --> 0.879). Saving model!\n"
     ]
    },
    {
     "name": "stderr",
     "output_type": "stream",
     "text": [
      "100%|██████████| 125/125 [02:43<00:00,  1.31s/it, loss=0.0632]\n",
      "100%|██████████| 32/32 [00:13<00:00,  2.44it/s, loss=0.0919]\n"
     ]
    },
    {
     "name": "stdout",
     "output_type": "stream",
     "text": [
      "Epoch = 5, Accuracy = 0.8790\n",
      "EarlyStopping counter: 1 out of 5\n"
     ]
    },
    {
     "name": "stderr",
     "output_type": "stream",
     "text": [
      "100%|██████████| 125/125 [02:44<00:00,  1.31s/it, loss=0.0566]\n",
      "100%|██████████| 32/32 [00:13<00:00,  2.42it/s, loss=0.106]\n"
     ]
    },
    {
     "name": "stdout",
     "output_type": "stream",
     "text": [
      "Epoch = 6, Accuracy = 0.8700\n",
      "EarlyStopping counter: 2 out of 5\n"
     ]
    },
    {
     "name": "stderr",
     "output_type": "stream",
     "text": [
      "100%|██████████| 125/125 [02:44<00:00,  1.31s/it, loss=0.0515]\n",
      "100%|██████████| 32/32 [00:13<00:00,  2.44it/s, loss=0.129]\n"
     ]
    },
    {
     "name": "stdout",
     "output_type": "stream",
     "text": [
      "Epoch = 7, Accuracy = 0.8700\n",
      "EarlyStopping counter: 3 out of 5\n"
     ]
    },
    {
     "name": "stderr",
     "output_type": "stream",
     "text": [
      "100%|██████████| 125/125 [02:44<00:00,  1.32s/it, loss=0.0442]\n",
      "100%|██████████| 32/32 [00:13<00:00,  2.44it/s, loss=0.126]\n"
     ]
    },
    {
     "name": "stdout",
     "output_type": "stream",
     "text": [
      "Epoch = 8, Accuracy = 0.8720\n",
      "EarlyStopping counter: 4 out of 5\n"
     ]
    },
    {
     "name": "stderr",
     "output_type": "stream",
     "text": [
      "100%|██████████| 125/125 [02:44<00:00,  1.31s/it, loss=0.034]\n",
      "100%|██████████| 32/32 [00:13<00:00,  2.44it/s, loss=0.105]\n"
     ]
    },
    {
     "name": "stdout",
     "output_type": "stream",
     "text": [
      "Epoch = 9, Accuracy = 0.8810\n",
      "Validation score improved (0.879 --> 0.881). Saving model!\n"
     ]
    },
    {
     "name": "stderr",
     "output_type": "stream",
     "text": [
      "100%|██████████| 125/125 [02:44<00:00,  1.31s/it, loss=0.0209]\n",
      "100%|██████████| 32/32 [00:13<00:00,  2.43it/s, loss=0.121]\n"
     ]
    },
    {
     "name": "stdout",
     "output_type": "stream",
     "text": [
      "Epoch = 10, Accuracy = 0.8780\n",
      "EarlyStopping counter: 1 out of 5\n"
     ]
    },
    {
     "name": "stderr",
     "output_type": "stream",
     "text": [
      "100%|██████████| 125/125 [02:44<00:00,  1.31s/it, loss=0.0165]\n",
      "100%|██████████| 32/32 [00:13<00:00,  2.41it/s, loss=0.128]\n"
     ]
    },
    {
     "name": "stdout",
     "output_type": "stream",
     "text": [
      "Epoch = 11, Accuracy = 0.8770\n",
      "EarlyStopping counter: 2 out of 5\n"
     ]
    },
    {
     "name": "stderr",
     "output_type": "stream",
     "text": [
      "100%|██████████| 125/125 [02:44<00:00,  1.32s/it, loss=0.0126]\n",
      "100%|██████████| 32/32 [00:13<00:00,  2.43it/s, loss=0.139]\n"
     ]
    },
    {
     "name": "stdout",
     "output_type": "stream",
     "text": [
      "Epoch = 12, Accuracy = 0.8810\n",
      "EarlyStopping counter: 3 out of 5\n"
     ]
    },
    {
     "name": "stderr",
     "output_type": "stream",
     "text": [
      "100%|██████████| 125/125 [02:44<00:00,  1.31s/it, loss=0.00964]\n",
      "100%|██████████| 32/32 [00:13<00:00,  2.44it/s, loss=0.16]\n"
     ]
    },
    {
     "name": "stdout",
     "output_type": "stream",
     "text": [
      "Epoch = 13, Accuracy = 0.8830\n",
      "Validation score improved (0.881 --> 0.883). Saving model!\n"
     ]
    },
    {
     "name": "stderr",
     "output_type": "stream",
     "text": [
      "100%|██████████| 125/125 [02:44<00:00,  1.31s/it, loss=0.00963]\n",
      "100%|██████████| 32/32 [00:13<00:00,  2.42it/s, loss=0.166]\n"
     ]
    },
    {
     "name": "stdout",
     "output_type": "stream",
     "text": [
      "Epoch = 14, Accuracy = 0.8850\n",
      "Validation score improved (0.883 --> 0.885). Saving model!\n"
     ]
    },
    {
     "name": "stderr",
     "output_type": "stream",
     "text": [
      "100%|██████████| 125/125 [02:44<00:00,  1.31s/it, loss=0.00951]\n",
      "100%|██████████| 32/32 [00:13<00:00,  2.44it/s, loss=0.177]\n"
     ]
    },
    {
     "name": "stdout",
     "output_type": "stream",
     "text": [
      "Epoch = 15, Accuracy = 0.8780\n",
      "EarlyStopping counter: 1 out of 5\n"
     ]
    },
    {
     "name": "stderr",
     "output_type": "stream",
     "text": [
      "100%|██████████| 125/125 [02:44<00:00,  1.31s/it, loss=0.0078]\n",
      "100%|██████████| 32/32 [00:13<00:00,  2.44it/s, loss=0.175]\n"
     ]
    },
    {
     "name": "stdout",
     "output_type": "stream",
     "text": [
      "Epoch = 16, Accuracy = 0.8850\n",
      "EarlyStopping counter: 2 out of 5\n"
     ]
    },
    {
     "name": "stderr",
     "output_type": "stream",
     "text": [
      "100%|██████████| 125/125 [02:44<00:00,  1.32s/it, loss=0.00566]\n",
      "100%|██████████| 32/32 [00:13<00:00,  2.44it/s, loss=0.183]\n"
     ]
    },
    {
     "name": "stdout",
     "output_type": "stream",
     "text": [
      "Epoch = 17, Accuracy = 0.8790\n",
      "EarlyStopping counter: 3 out of 5\n"
     ]
    },
    {
     "name": "stderr",
     "output_type": "stream",
     "text": [
      "100%|██████████| 125/125 [02:44<00:00,  1.31s/it, loss=0.00595]\n",
      "100%|██████████| 32/32 [00:13<00:00,  2.44it/s, loss=0.193]\n"
     ]
    },
    {
     "name": "stdout",
     "output_type": "stream",
     "text": [
      "Epoch = 18, Accuracy = 0.8850\n",
      "EarlyStopping counter: 4 out of 5\n"
     ]
    },
    {
     "name": "stderr",
     "output_type": "stream",
     "text": [
      "100%|██████████| 125/125 [02:43<00:00,  1.31s/it, loss=0.00422]\n",
      "100%|██████████| 32/32 [00:13<00:00,  2.43it/s, loss=0.191]\n"
     ]
    },
    {
     "name": "stdout",
     "output_type": "stream",
     "text": [
      "Epoch = 19, Accuracy = 0.8860\n",
      "Validation score improved (0.885 --> 0.886). Saving model!\n"
     ]
    },
    {
     "name": "stderr",
     "output_type": "stream",
     "text": [
      "100%|██████████| 125/125 [02:44<00:00,  1.31s/it, loss=0.00329]\n",
      "100%|██████████| 32/32 [00:13<00:00,  2.44it/s, loss=0.202]\n"
     ]
    },
    {
     "name": "stdout",
     "output_type": "stream",
     "text": [
      "Epoch = 20, Accuracy = 0.8840\n",
      "EarlyStopping counter: 1 out of 5\n"
     ]
    },
    {
     "name": "stderr",
     "output_type": "stream",
     "text": [
      "100%|██████████| 125/125 [02:44<00:00,  1.32s/it, loss=0.00445]\n",
      "100%|██████████| 32/32 [00:13<00:00,  2.44it/s, loss=0.191]\n"
     ]
    },
    {
     "name": "stdout",
     "output_type": "stream",
     "text": [
      "Epoch = 21, Accuracy = 0.8850\n",
      "EarlyStopping counter: 2 out of 5\n"
     ]
    },
    {
     "name": "stderr",
     "output_type": "stream",
     "text": [
      "100%|██████████| 125/125 [02:44<00:00,  1.32s/it, loss=0.00288]\n",
      "100%|██████████| 32/32 [00:13<00:00,  2.44it/s, loss=0.188]\n"
     ]
    },
    {
     "name": "stdout",
     "output_type": "stream",
     "text": [
      "Epoch = 22, Accuracy = 0.8850\n",
      "EarlyStopping counter: 3 out of 5\n"
     ]
    },
    {
     "name": "stderr",
     "output_type": "stream",
     "text": [
      "100%|██████████| 125/125 [02:43<00:00,  1.31s/it, loss=0.00414]\n",
      "100%|██████████| 32/32 [00:13<00:00,  2.44it/s, loss=0.196]\n"
     ]
    },
    {
     "name": "stdout",
     "output_type": "stream",
     "text": [
      "Epoch = 23, Accuracy = 0.8840\n",
      "EarlyStopping counter: 4 out of 5\n"
     ]
    },
    {
     "name": "stderr",
     "output_type": "stream",
     "text": [
      "100%|██████████| 125/125 [02:44<00:00,  1.32s/it, loss=0.00331]\n",
      "100%|██████████| 32/32 [00:13<00:00,  2.44it/s, loss=0.192]\n"
     ]
    },
    {
     "name": "stdout",
     "output_type": "stream",
     "text": [
      "Epoch = 24, Accuracy = 0.8860\n",
      "EarlyStopping counter: 5 out of 5\n",
      "Early stopping\n"
     ]
    },
    {
     "name": "stderr",
     "output_type": "stream",
     "text": [
      "/opt/conda/lib/python3.10/site-packages/torchvision/models/_utils.py:208: UserWarning: The parameter 'pretrained' is deprecated since 0.13 and may be removed in the future, please use 'weights' instead.\n",
      "  warnings.warn(\n",
      "/opt/conda/lib/python3.10/site-packages/torchvision/models/_utils.py:223: UserWarning: Arguments other than a weight enum or `None` for 'weights' are deprecated since 0.13 and may be removed in the future. The current behavior is equivalent to passing `weights=ResNet152_Weights.IMAGENET1K_V1`. You can also use `weights=ResNet152_Weights.DEFAULT` to get the most up-to-date weights.\n",
      "  warnings.warn(msg)\n",
      "100%|██████████| 125/125 [02:44<00:00,  1.32s/it, loss=0.0673]\n",
      "100%|██████████| 32/32 [00:13<00:00,  2.44it/s, loss=0.0266]\n"
     ]
    },
    {
     "name": "stdout",
     "output_type": "stream",
     "text": [
      "Epoch = 0, Accuracy = 0.9860\n",
      "Validation score improved (-inf --> 0.986). Saving model!\n"
     ]
    },
    {
     "name": "stderr",
     "output_type": "stream",
     "text": [
      "100%|██████████| 125/125 [02:43<00:00,  1.31s/it, loss=0.0209]\n",
      "100%|██████████| 32/32 [00:13<00:00,  2.45it/s, loss=0.0267]\n"
     ]
    },
    {
     "name": "stdout",
     "output_type": "stream",
     "text": [
      "Epoch = 1, Accuracy = 0.9860\n",
      "EarlyStopping counter: 1 out of 5\n"
     ]
    },
    {
     "name": "stderr",
     "output_type": "stream",
     "text": [
      "100%|██████████| 125/125 [02:44<00:00,  1.31s/it, loss=0.0187]\n",
      "100%|██████████| 32/32 [00:13<00:00,  2.44it/s, loss=0.0282]\n"
     ]
    },
    {
     "name": "stdout",
     "output_type": "stream",
     "text": [
      "Epoch = 2, Accuracy = 0.9860\n",
      "EarlyStopping counter: 2 out of 5\n"
     ]
    },
    {
     "name": "stderr",
     "output_type": "stream",
     "text": [
      "100%|██████████| 125/125 [02:43<00:00,  1.31s/it, loss=0.0185]\n",
      "100%|██████████| 32/32 [00:13<00:00,  2.44it/s, loss=0.0235]\n"
     ]
    },
    {
     "name": "stdout",
     "output_type": "stream",
     "text": [
      "Epoch = 3, Accuracy = 0.9860\n",
      "EarlyStopping counter: 3 out of 5\n"
     ]
    },
    {
     "name": "stderr",
     "output_type": "stream",
     "text": [
      "100%|██████████| 125/125 [02:44<00:00,  1.31s/it, loss=0.0143]\n",
      "100%|██████████| 32/32 [00:13<00:00,  2.43it/s, loss=0.0232]\n"
     ]
    },
    {
     "name": "stdout",
     "output_type": "stream",
     "text": [
      "Epoch = 4, Accuracy = 0.9870\n",
      "Validation score improved (0.986 --> 0.987). Saving model!\n"
     ]
    },
    {
     "name": "stderr",
     "output_type": "stream",
     "text": [
      "100%|██████████| 125/125 [02:44<00:00,  1.31s/it, loss=0.0141]\n",
      "100%|██████████| 32/32 [00:13<00:00,  2.44it/s, loss=0.0376]\n"
     ]
    },
    {
     "name": "stdout",
     "output_type": "stream",
     "text": [
      "Epoch = 5, Accuracy = 0.9570\n",
      "EarlyStopping counter: 1 out of 5\n"
     ]
    },
    {
     "name": "stderr",
     "output_type": "stream",
     "text": [
      "100%|██████████| 125/125 [02:44<00:00,  1.31s/it, loss=0.0131]\n",
      "100%|██████████| 32/32 [00:13<00:00,  2.44it/s, loss=0.0246]\n"
     ]
    },
    {
     "name": "stdout",
     "output_type": "stream",
     "text": [
      "Epoch = 6, Accuracy = 0.9860\n",
      "EarlyStopping counter: 2 out of 5\n"
     ]
    },
    {
     "name": "stderr",
     "output_type": "stream",
     "text": [
      "100%|██████████| 125/125 [02:44<00:00,  1.31s/it, loss=0.00759]\n",
      "100%|██████████| 32/32 [00:13<00:00,  2.44it/s, loss=0.0315]\n"
     ]
    },
    {
     "name": "stdout",
     "output_type": "stream",
     "text": [
      "Epoch = 7, Accuracy = 0.9870\n",
      "EarlyStopping counter: 3 out of 5\n"
     ]
    },
    {
     "name": "stderr",
     "output_type": "stream",
     "text": [
      "100%|██████████| 125/125 [02:44<00:00,  1.31s/it, loss=0.00683]\n",
      "100%|██████████| 32/32 [00:13<00:00,  2.44it/s, loss=0.0336]\n"
     ]
    },
    {
     "name": "stdout",
     "output_type": "stream",
     "text": [
      "Epoch = 8, Accuracy = 0.9720\n",
      "EarlyStopping counter: 4 out of 5\n"
     ]
    },
    {
     "name": "stderr",
     "output_type": "stream",
     "text": [
      "100%|██████████| 125/125 [02:44<00:00,  1.31s/it, loss=0.00444]\n",
      "100%|██████████| 32/32 [00:13<00:00,  2.44it/s, loss=0.0262]\n"
     ]
    },
    {
     "name": "stdout",
     "output_type": "stream",
     "text": [
      "Epoch = 9, Accuracy = 0.9870\n",
      "EarlyStopping counter: 5 out of 5\n",
      "Early stopping\n"
     ]
    },
    {
     "name": "stderr",
     "output_type": "stream",
     "text": [
      "/opt/conda/lib/python3.10/site-packages/torchvision/models/_utils.py:208: UserWarning: The parameter 'pretrained' is deprecated since 0.13 and may be removed in the future, please use 'weights' instead.\n",
      "  warnings.warn(\n",
      "/opt/conda/lib/python3.10/site-packages/torchvision/models/_utils.py:223: UserWarning: Arguments other than a weight enum or `None` for 'weights' are deprecated since 0.13 and may be removed in the future. The current behavior is equivalent to passing `weights=ResNet152_Weights.IMAGENET1K_V1`. You can also use `weights=ResNet152_Weights.DEFAULT` to get the most up-to-date weights.\n",
      "  warnings.warn(msg)\n",
      "100%|██████████| 125/125 [02:44<00:00,  1.31s/it, loss=0.157]\n",
      "100%|██████████| 32/32 [00:13<00:00,  2.45it/s, loss=0.109]\n"
     ]
    },
    {
     "name": "stdout",
     "output_type": "stream",
     "text": [
      "Epoch = 0, Accuracy = 0.8490\n",
      "Validation score improved (-inf --> 0.849). Saving model!\n"
     ]
    },
    {
     "name": "stderr",
     "output_type": "stream",
     "text": [
      "100%|██████████| 125/125 [02:44<00:00,  1.31s/it, loss=0.101]\n",
      "100%|██████████| 32/32 [00:13<00:00,  2.44it/s, loss=0.139]\n"
     ]
    },
    {
     "name": "stdout",
     "output_type": "stream",
     "text": [
      "Epoch = 1, Accuracy = 0.8520\n",
      "Validation score improved (0.849 --> 0.852). Saving model!\n"
     ]
    },
    {
     "name": "stderr",
     "output_type": "stream",
     "text": [
      "100%|██████████| 125/125 [02:44<00:00,  1.32s/it, loss=0.0975]\n",
      "100%|██████████| 32/32 [00:13<00:00,  2.44it/s, loss=0.0965]\n"
     ]
    },
    {
     "name": "stdout",
     "output_type": "stream",
     "text": [
      "Epoch = 2, Accuracy = 0.8550\n",
      "Validation score improved (0.852 --> 0.855). Saving model!\n"
     ]
    },
    {
     "name": "stderr",
     "output_type": "stream",
     "text": [
      "100%|██████████| 125/125 [02:44<00:00,  1.32s/it, loss=0.0925]\n",
      "100%|██████████| 32/32 [00:13<00:00,  2.44it/s, loss=0.104]\n"
     ]
    },
    {
     "name": "stdout",
     "output_type": "stream",
     "text": [
      "Epoch = 3, Accuracy = 0.8460\n",
      "EarlyStopping counter: 1 out of 5\n"
     ]
    },
    {
     "name": "stderr",
     "output_type": "stream",
     "text": [
      "100%|██████████| 125/125 [02:43<00:00,  1.31s/it, loss=0.0868]\n",
      "100%|██████████| 32/32 [00:13<00:00,  2.43it/s, loss=0.103]\n"
     ]
    },
    {
     "name": "stdout",
     "output_type": "stream",
     "text": [
      "Epoch = 4, Accuracy = 0.8570\n",
      "Validation score improved (0.855 --> 0.857). Saving model!\n"
     ]
    },
    {
     "name": "stderr",
     "output_type": "stream",
     "text": [
      "100%|██████████| 125/125 [02:44<00:00,  1.31s/it, loss=0.0787]\n",
      "100%|██████████| 32/32 [00:13<00:00,  2.44it/s, loss=0.107]\n"
     ]
    },
    {
     "name": "stdout",
     "output_type": "stream",
     "text": [
      "Epoch = 5, Accuracy = 0.8490\n",
      "EarlyStopping counter: 1 out of 5\n"
     ]
    },
    {
     "name": "stderr",
     "output_type": "stream",
     "text": [
      "100%|██████████| 125/125 [02:44<00:00,  1.31s/it, loss=0.0735]\n",
      "100%|██████████| 32/32 [00:13<00:00,  2.44it/s, loss=0.116]\n"
     ]
    },
    {
     "name": "stdout",
     "output_type": "stream",
     "text": [
      "Epoch = 6, Accuracy = 0.8490\n",
      "EarlyStopping counter: 2 out of 5\n"
     ]
    },
    {
     "name": "stderr",
     "output_type": "stream",
     "text": [
      "100%|██████████| 125/125 [02:44<00:00,  1.31s/it, loss=0.0663]\n",
      "100%|██████████| 32/32 [00:13<00:00,  2.44it/s, loss=0.112]\n"
     ]
    },
    {
     "name": "stdout",
     "output_type": "stream",
     "text": [
      "Epoch = 7, Accuracy = 0.8430\n",
      "EarlyStopping counter: 3 out of 5\n"
     ]
    },
    {
     "name": "stderr",
     "output_type": "stream",
     "text": [
      "100%|██████████| 125/125 [02:44<00:00,  1.32s/it, loss=0.0644]\n",
      "100%|██████████| 32/32 [00:13<00:00,  2.44it/s, loss=0.127]\n"
     ]
    },
    {
     "name": "stdout",
     "output_type": "stream",
     "text": [
      "Epoch = 8, Accuracy = 0.8510\n",
      "EarlyStopping counter: 4 out of 5\n"
     ]
    },
    {
     "name": "stderr",
     "output_type": "stream",
     "text": [
      "100%|██████████| 125/125 [02:44<00:00,  1.31s/it, loss=0.0438]\n",
      "100%|██████████| 32/32 [00:13<00:00,  2.43it/s, loss=0.12]\n"
     ]
    },
    {
     "name": "stdout",
     "output_type": "stream",
     "text": [
      "Epoch = 9, Accuracy = 0.8640\n",
      "Validation score improved (0.857 --> 0.864). Saving model!\n"
     ]
    },
    {
     "name": "stderr",
     "output_type": "stream",
     "text": [
      "100%|██████████| 125/125 [02:44<00:00,  1.31s/it, loss=0.0306]\n",
      "100%|██████████| 32/32 [00:13<00:00,  2.43it/s, loss=0.124]\n"
     ]
    },
    {
     "name": "stdout",
     "output_type": "stream",
     "text": [
      "Epoch = 10, Accuracy = 0.8620\n",
      "EarlyStopping counter: 1 out of 5\n"
     ]
    },
    {
     "name": "stderr",
     "output_type": "stream",
     "text": [
      "100%|██████████| 125/125 [02:44<00:00,  1.32s/it, loss=0.0238]\n",
      "100%|██████████| 32/32 [00:13<00:00,  2.43it/s, loss=0.148]\n"
     ]
    },
    {
     "name": "stdout",
     "output_type": "stream",
     "text": [
      "Epoch = 11, Accuracy = 0.8650\n",
      "Validation score improved (0.864 --> 0.865). Saving model!\n"
     ]
    },
    {
     "name": "stderr",
     "output_type": "stream",
     "text": [
      "100%|██████████| 125/125 [02:44<00:00,  1.31s/it, loss=0.0185]\n",
      "100%|██████████| 32/32 [00:13<00:00,  2.44it/s, loss=0.162]\n"
     ]
    },
    {
     "name": "stdout",
     "output_type": "stream",
     "text": [
      "Epoch = 12, Accuracy = 0.8610\n",
      "EarlyStopping counter: 1 out of 5\n"
     ]
    },
    {
     "name": "stderr",
     "output_type": "stream",
     "text": [
      "100%|██████████| 125/125 [02:44<00:00,  1.31s/it, loss=0.0166]\n",
      "100%|██████████| 32/32 [00:13<00:00,  2.44it/s, loss=0.174]\n"
     ]
    },
    {
     "name": "stdout",
     "output_type": "stream",
     "text": [
      "Epoch = 13, Accuracy = 0.8560\n",
      "EarlyStopping counter: 2 out of 5\n"
     ]
    },
    {
     "name": "stderr",
     "output_type": "stream",
     "text": [
      "100%|██████████| 125/125 [02:44<00:00,  1.31s/it, loss=0.015]\n",
      "100%|██████████| 32/32 [00:13<00:00,  2.43it/s, loss=0.18]\n"
     ]
    },
    {
     "name": "stdout",
     "output_type": "stream",
     "text": [
      "Epoch = 14, Accuracy = 0.8620\n",
      "EarlyStopping counter: 3 out of 5\n"
     ]
    },
    {
     "name": "stderr",
     "output_type": "stream",
     "text": [
      "100%|██████████| 125/125 [02:44<00:00,  1.31s/it, loss=0.0126]\n",
      "100%|██████████| 32/32 [00:13<00:00,  2.44it/s, loss=0.195]\n"
     ]
    },
    {
     "name": "stdout",
     "output_type": "stream",
     "text": [
      "Epoch = 15, Accuracy = 0.8590\n",
      "EarlyStopping counter: 4 out of 5\n"
     ]
    },
    {
     "name": "stderr",
     "output_type": "stream",
     "text": [
      "100%|██████████| 125/125 [02:44<00:00,  1.31s/it, loss=0.0116]\n",
      "100%|██████████| 32/32 [00:13<00:00,  2.44it/s, loss=0.19]\n"
     ]
    },
    {
     "name": "stdout",
     "output_type": "stream",
     "text": [
      "Epoch = 16, Accuracy = 0.8630\n",
      "EarlyStopping counter: 5 out of 5\n",
      "Early stopping\n"
     ]
    },
    {
     "name": "stderr",
     "output_type": "stream",
     "text": [
      "/opt/conda/lib/python3.10/site-packages/torchvision/models/_utils.py:208: UserWarning: The parameter 'pretrained' is deprecated since 0.13 and may be removed in the future, please use 'weights' instead.\n",
      "  warnings.warn(\n",
      "/opt/conda/lib/python3.10/site-packages/torchvision/models/_utils.py:223: UserWarning: Arguments other than a weight enum or `None` for 'weights' are deprecated since 0.13 and may be removed in the future. The current behavior is equivalent to passing `weights=ResNet152_Weights.IMAGENET1K_V1`. You can also use `weights=ResNet152_Weights.DEFAULT` to get the most up-to-date weights.\n",
      "  warnings.warn(msg)\n",
      "100%|██████████| 125/125 [02:44<00:00,  1.31s/it, loss=0.139]\n",
      "100%|██████████| 32/32 [00:13<00:00,  2.44it/s, loss=0.0701]\n"
     ]
    },
    {
     "name": "stdout",
     "output_type": "stream",
     "text": [
      "Epoch = 0, Accuracy = 0.8980\n",
      "Validation score improved (-inf --> 0.898). Saving model!\n"
     ]
    },
    {
     "name": "stderr",
     "output_type": "stream",
     "text": [
      "100%|██████████| 125/125 [02:44<00:00,  1.31s/it, loss=0.0716]\n",
      "100%|██████████| 32/32 [00:13<00:00,  2.44it/s, loss=0.067]\n"
     ]
    },
    {
     "name": "stdout",
     "output_type": "stream",
     "text": [
      "Epoch = 1, Accuracy = 0.9030\n",
      "Validation score improved (0.898 --> 0.903). Saving model!\n"
     ]
    },
    {
     "name": "stderr",
     "output_type": "stream",
     "text": [
      "100%|██████████| 125/125 [02:43<00:00,  1.31s/it, loss=0.054]\n",
      "100%|██████████| 32/32 [00:13<00:00,  2.44it/s, loss=0.0905]\n"
     ]
    },
    {
     "name": "stdout",
     "output_type": "stream",
     "text": [
      "Epoch = 2, Accuracy = 0.8710\n",
      "EarlyStopping counter: 1 out of 5\n"
     ]
    },
    {
     "name": "stderr",
     "output_type": "stream",
     "text": [
      "100%|██████████| 125/125 [02:44<00:00,  1.31s/it, loss=0.0516]\n",
      "100%|██████████| 32/32 [00:13<00:00,  2.44it/s, loss=0.0715]\n"
     ]
    },
    {
     "name": "stdout",
     "output_type": "stream",
     "text": [
      "Epoch = 3, Accuracy = 0.9040\n",
      "Validation score improved (0.903 --> 0.904). Saving model!\n"
     ]
    },
    {
     "name": "stderr",
     "output_type": "stream",
     "text": [
      "100%|██████████| 125/125 [02:43<00:00,  1.31s/it, loss=0.0418]\n",
      "100%|██████████| 32/32 [00:13<00:00,  2.44it/s, loss=0.0831]\n"
     ]
    },
    {
     "name": "stdout",
     "output_type": "stream",
     "text": [
      "Epoch = 4, Accuracy = 0.8940\n",
      "EarlyStopping counter: 1 out of 5\n"
     ]
    },
    {
     "name": "stderr",
     "output_type": "stream",
     "text": [
      "100%|██████████| 125/125 [02:44<00:00,  1.31s/it, loss=0.037]\n",
      "100%|██████████| 32/32 [00:13<00:00,  2.45it/s, loss=0.0689]\n"
     ]
    },
    {
     "name": "stdout",
     "output_type": "stream",
     "text": [
      "Epoch = 5, Accuracy = 0.9040\n",
      "EarlyStopping counter: 2 out of 5\n"
     ]
    },
    {
     "name": "stderr",
     "output_type": "stream",
     "text": [
      "100%|██████████| 125/125 [02:44<00:00,  1.31s/it, loss=0.0331]\n",
      "100%|██████████| 32/32 [00:13<00:00,  2.43it/s, loss=0.0781]\n"
     ]
    },
    {
     "name": "stdout",
     "output_type": "stream",
     "text": [
      "Epoch = 6, Accuracy = 0.9010\n",
      "EarlyStopping counter: 3 out of 5\n"
     ]
    },
    {
     "name": "stderr",
     "output_type": "stream",
     "text": [
      "100%|██████████| 125/125 [02:44<00:00,  1.31s/it, loss=0.0321]\n",
      "100%|██████████| 32/32 [00:13<00:00,  2.44it/s, loss=0.0753]\n"
     ]
    },
    {
     "name": "stdout",
     "output_type": "stream",
     "text": [
      "Epoch = 7, Accuracy = 0.8950\n",
      "EarlyStopping counter: 4 out of 5\n"
     ]
    },
    {
     "name": "stderr",
     "output_type": "stream",
     "text": [
      "100%|██████████| 125/125 [02:44<00:00,  1.31s/it, loss=0.0217]\n",
      "100%|██████████| 32/32 [00:13<00:00,  2.44it/s, loss=0.0704]\n"
     ]
    },
    {
     "name": "stdout",
     "output_type": "stream",
     "text": [
      "Epoch = 8, Accuracy = 0.9150\n",
      "Validation score improved (0.904 --> 0.915). Saving model!\n"
     ]
    },
    {
     "name": "stderr",
     "output_type": "stream",
     "text": [
      "100%|██████████| 125/125 [02:44<00:00,  1.31s/it, loss=0.0127]\n",
      "100%|██████████| 32/32 [00:13<00:00,  2.44it/s, loss=0.0711]\n"
     ]
    },
    {
     "name": "stdout",
     "output_type": "stream",
     "text": [
      "Epoch = 9, Accuracy = 0.9200\n",
      "Validation score improved (0.915 --> 0.92). Saving model!\n"
     ]
    },
    {
     "name": "stderr",
     "output_type": "stream",
     "text": [
      "100%|██████████| 125/125 [02:44<00:00,  1.31s/it, loss=0.00979]\n",
      "100%|██████████| 32/32 [00:13<00:00,  2.44it/s, loss=0.0727]\n"
     ]
    },
    {
     "name": "stdout",
     "output_type": "stream",
     "text": [
      "Epoch = 10, Accuracy = 0.9250\n",
      "Validation score improved (0.92 --> 0.925). Saving model!\n"
     ]
    },
    {
     "name": "stderr",
     "output_type": "stream",
     "text": [
      "100%|██████████| 125/125 [02:44<00:00,  1.31s/it, loss=0.0076]\n",
      "100%|██████████| 32/32 [00:13<00:00,  2.44it/s, loss=0.0799]\n"
     ]
    },
    {
     "name": "stdout",
     "output_type": "stream",
     "text": [
      "Epoch = 11, Accuracy = 0.9170\n",
      "EarlyStopping counter: 1 out of 5\n"
     ]
    },
    {
     "name": "stderr",
     "output_type": "stream",
     "text": [
      "100%|██████████| 125/125 [02:44<00:00,  1.31s/it, loss=0.00703]\n",
      "100%|██████████| 32/32 [00:13<00:00,  2.44it/s, loss=0.0817]\n"
     ]
    },
    {
     "name": "stdout",
     "output_type": "stream",
     "text": [
      "Epoch = 12, Accuracy = 0.9220\n",
      "EarlyStopping counter: 2 out of 5\n"
     ]
    },
    {
     "name": "stderr",
     "output_type": "stream",
     "text": [
      "100%|██████████| 125/125 [02:44<00:00,  1.31s/it, loss=0.00563]\n",
      "100%|██████████| 32/32 [00:13<00:00,  2.44it/s, loss=0.0831]\n"
     ]
    },
    {
     "name": "stdout",
     "output_type": "stream",
     "text": [
      "Epoch = 13, Accuracy = 0.9240\n",
      "EarlyStopping counter: 3 out of 5\n"
     ]
    },
    {
     "name": "stderr",
     "output_type": "stream",
     "text": [
      "100%|██████████| 125/125 [02:44<00:00,  1.32s/it, loss=0.00478]\n",
      "100%|██████████| 32/32 [00:13<00:00,  2.43it/s, loss=0.0905]\n"
     ]
    },
    {
     "name": "stdout",
     "output_type": "stream",
     "text": [
      "Epoch = 14, Accuracy = 0.9240\n",
      "EarlyStopping counter: 4 out of 5\n"
     ]
    },
    {
     "name": "stderr",
     "output_type": "stream",
     "text": [
      "100%|██████████| 125/125 [02:43<00:00,  1.31s/it, loss=0.00396]\n",
      "100%|██████████| 32/32 [00:13<00:00,  2.44it/s, loss=0.0892]\n"
     ]
    },
    {
     "name": "stdout",
     "output_type": "stream",
     "text": [
      "Epoch = 15, Accuracy = 0.9210\n",
      "EarlyStopping counter: 5 out of 5\n",
      "Early stopping\n"
     ]
    },
    {
     "name": "stderr",
     "output_type": "stream",
     "text": [
      "/opt/conda/lib/python3.10/site-packages/torchvision/models/_utils.py:208: UserWarning: The parameter 'pretrained' is deprecated since 0.13 and may be removed in the future, please use 'weights' instead.\n",
      "  warnings.warn(\n",
      "/opt/conda/lib/python3.10/site-packages/torchvision/models/_utils.py:223: UserWarning: Arguments other than a weight enum or `None` for 'weights' are deprecated since 0.13 and may be removed in the future. The current behavior is equivalent to passing `weights=ResNet152_Weights.IMAGENET1K_V1`. You can also use `weights=ResNet152_Weights.DEFAULT` to get the most up-to-date weights.\n",
      "  warnings.warn(msg)\n",
      "100%|██████████| 125/125 [02:44<00:00,  1.32s/it, loss=0.144]\n",
      "100%|██████████| 32/32 [00:13<00:00,  2.44it/s, loss=0.105]\n"
     ]
    },
    {
     "name": "stdout",
     "output_type": "stream",
     "text": [
      "Epoch = 0, Accuracy = 0.8350\n",
      "Validation score improved (-inf --> 0.835). Saving model!\n"
     ]
    },
    {
     "name": "stderr",
     "output_type": "stream",
     "text": [
      "100%|██████████| 125/125 [02:44<00:00,  1.31s/it, loss=0.102]\n",
      "100%|██████████| 32/32 [00:13<00:00,  2.45it/s, loss=0.0991]\n"
     ]
    },
    {
     "name": "stdout",
     "output_type": "stream",
     "text": [
      "Epoch = 1, Accuracy = 0.8400\n",
      "Validation score improved (0.835 --> 0.84). Saving model!\n"
     ]
    },
    {
     "name": "stderr",
     "output_type": "stream",
     "text": [
      "100%|██████████| 125/125 [02:43<00:00,  1.31s/it, loss=0.0941]\n",
      "100%|██████████| 32/32 [00:13<00:00,  2.44it/s, loss=0.103]\n"
     ]
    },
    {
     "name": "stdout",
     "output_type": "stream",
     "text": [
      "Epoch = 2, Accuracy = 0.8250\n",
      "EarlyStopping counter: 1 out of 5\n"
     ]
    },
    {
     "name": "stderr",
     "output_type": "stream",
     "text": [
      "100%|██████████| 125/125 [02:43<00:00,  1.31s/it, loss=0.0846]\n",
      "100%|██████████| 32/32 [00:13<00:00,  2.44it/s, loss=0.0998]\n"
     ]
    },
    {
     "name": "stdout",
     "output_type": "stream",
     "text": [
      "Epoch = 3, Accuracy = 0.8410\n",
      "Validation score improved (0.84 --> 0.841). Saving model!\n"
     ]
    },
    {
     "name": "stderr",
     "output_type": "stream",
     "text": [
      "100%|██████████| 125/125 [02:44<00:00,  1.31s/it, loss=0.0809]\n",
      "100%|██████████| 32/32 [00:13<00:00,  2.43it/s, loss=0.0999]\n"
     ]
    },
    {
     "name": "stdout",
     "output_type": "stream",
     "text": [
      "Epoch = 4, Accuracy = 0.8160\n",
      "EarlyStopping counter: 1 out of 5\n"
     ]
    },
    {
     "name": "stderr",
     "output_type": "stream",
     "text": [
      "100%|██████████| 125/125 [02:44<00:00,  1.31s/it, loss=0.0769]\n",
      "100%|██████████| 32/32 [00:13<00:00,  2.43it/s, loss=0.106]\n"
     ]
    },
    {
     "name": "stdout",
     "output_type": "stream",
     "text": [
      "Epoch = 5, Accuracy = 0.8480\n",
      "Validation score improved (0.841 --> 0.848). Saving model!\n"
     ]
    },
    {
     "name": "stderr",
     "output_type": "stream",
     "text": [
      "100%|██████████| 125/125 [02:44<00:00,  1.31s/it, loss=0.0681]\n",
      "100%|██████████| 32/32 [00:13<00:00,  2.43it/s, loss=0.114]\n"
     ]
    },
    {
     "name": "stdout",
     "output_type": "stream",
     "text": [
      "Epoch = 6, Accuracy = 0.8290\n",
      "EarlyStopping counter: 1 out of 5\n"
     ]
    },
    {
     "name": "stderr",
     "output_type": "stream",
     "text": [
      "100%|██████████| 125/125 [02:43<00:00,  1.31s/it, loss=0.0667]\n",
      "100%|██████████| 32/32 [00:13<00:00,  2.43it/s, loss=0.146]\n"
     ]
    },
    {
     "name": "stdout",
     "output_type": "stream",
     "text": [
      "Epoch = 7, Accuracy = 0.8290\n",
      "EarlyStopping counter: 2 out of 5\n"
     ]
    },
    {
     "name": "stderr",
     "output_type": "stream",
     "text": [
      "100%|██████████| 125/125 [02:44<00:00,  1.31s/it, loss=0.0617]\n",
      "100%|██████████| 32/32 [00:13<00:00,  2.39it/s, loss=0.104]\n"
     ]
    },
    {
     "name": "stdout",
     "output_type": "stream",
     "text": [
      "Epoch = 8, Accuracy = 0.8370\n",
      "EarlyStopping counter: 3 out of 5\n"
     ]
    },
    {
     "name": "stderr",
     "output_type": "stream",
     "text": [
      "100%|██████████| 125/125 [02:44<00:00,  1.32s/it, loss=0.0488]\n",
      "100%|██████████| 32/32 [00:13<00:00,  2.45it/s, loss=0.157]\n"
     ]
    },
    {
     "name": "stdout",
     "output_type": "stream",
     "text": [
      "Epoch = 9, Accuracy = 0.7610\n",
      "EarlyStopping counter: 4 out of 5\n"
     ]
    },
    {
     "name": "stderr",
     "output_type": "stream",
     "text": [
      "100%|██████████| 125/125 [02:43<00:00,  1.31s/it, loss=0.0359]\n",
      "100%|██████████| 32/32 [00:13<00:00,  2.45it/s, loss=0.13]\n"
     ]
    },
    {
     "name": "stdout",
     "output_type": "stream",
     "text": [
      "Epoch = 10, Accuracy = 0.8340\n",
      "EarlyStopping counter: 5 out of 5\n",
      "Early stopping\n"
     ]
    }
   ],
   "source": [
    "X = np.empty((0, 4))  # Initialize an empty array with 7 columns to match df.values\n",
    "\n",
    "for i in range(0, 5):\n",
    "    df = train(i)  # Assuming train(1) returns a DataFrame with 7 columns\n",
    "    df.to_csv(f\"oof1EFOCAL-{i}.csv\", index=False, header=False)\n",
    "    if len(df.columns)!=4:\n",
    "        df = df.drop('Unnamed: 0',axis = 1)    \n",
    "    X = np.concatenate((X, df.values))  # Concatenate new data to X\n",
    "\n",
    "# Convert the final result into a DataFrame and save to CSV\n",
    "df = pd.DataFrame(X)\n",
    "df.to_csv('RES152B', index=False)"
   ]
  },
  {
   "cell_type": "code",
   "execution_count": null,
   "id": "5b04d092",
   "metadata": {
    "papermill": {
     "duration": 2.055207,
     "end_time": "2024-09-12T19:06:14.148990",
     "exception": false,
     "start_time": "2024-09-12T19:06:12.093783",
     "status": "completed"
    },
    "tags": []
   },
   "outputs": [],
   "source": []
  }
 ],
 "metadata": {
  "kaggle": {
   "accelerator": "nvidiaTeslaT4",
   "dataSources": [
    {
     "datasetId": 5686538,
     "sourceId": 9375078,
     "sourceType": "datasetVersion"
    }
   ],
   "isGpuEnabled": true,
   "isInternetEnabled": true,
   "language": "python",
   "sourceType": "notebook"
  },
  "kernelspec": {
   "display_name": "Python 3",
   "language": "python",
   "name": "python3"
  },
  "language_info": {
   "codemirror_mode": {
    "name": "ipython",
    "version": 3
   },
   "file_extension": ".py",
   "mimetype": "text/x-python",
   "name": "python",
   "nbconvert_exporter": "python",
   "pygments_lexer": "ipython3",
   "version": "3.10.14"
  },
  "papermill": {
   "default_parameters": {},
   "duration": 14083.388124,
   "end_time": "2024-09-12T19:06:18.743401",
   "environment_variables": {},
   "exception": null,
   "input_path": "__notebook__.ipynb",
   "output_path": "__notebook__.ipynb",
   "parameters": {},
   "start_time": "2024-09-12T15:11:35.355277",
   "version": "2.6.0"
  }
 },
 "nbformat": 4,
 "nbformat_minor": 5
}
